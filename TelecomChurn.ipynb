{
  "nbformat": 4,
  "nbformat_minor": 0,
  "metadata": {
    "colab": {
      "provenance": [],
      "authorship_tag": "ABX9TyOpYzwYcfIv7/eRRKj8/aOM",
      "include_colab_link": true
    },
    "kernelspec": {
      "name": "python3",
      "display_name": "Python 3"
    },
    "language_info": {
      "name": "python"
    }
  },
  "cells": [
    {
      "cell_type": "markdown",
      "metadata": {
        "id": "view-in-github",
        "colab_type": "text"
      },
      "source": [
        "<a href=\"https://colab.research.google.com/github/RajuMopidevi/TelecomChurnCaseStudy/blob/main/TelecomChurn.ipynb\" target=\"_parent\"><img src=\"https://colab.research.google.com/assets/colab-badge.svg\" alt=\"Open In Colab\"/></a>"
      ]
    },
    {
      "cell_type": "markdown",
      "source": [
        "**Table of Contents** \n",
        "\n",
        "\n",
        "1.   Business Goal\n",
        "2.   Load the data and understand the variables\n",
        "3.   Data Inspection and cleaning\n",
        "4.   EDA"
      ],
      "metadata": {
        "id": "C9MJJgjTYys9"
      }
    },
    {
      "cell_type": "markdown",
      "source": [
        "## 1. Business Goal"
      ],
      "metadata": {
        "id": "lbLWyE-pY9PP"
      }
    },
    {
      "cell_type": "markdown",
      "source": [
        "## 2. Load the data and understand the variables"
      ],
      "metadata": {
        "id": "QG4TQ971ZDDa"
      }
    },
    {
      "cell_type": "code",
      "execution_count": 1,
      "metadata": {
        "id": "ZPVxveUdr6Gn"
      },
      "outputs": [],
      "source": [
        "## Load libraries\n",
        "import pandas as pd \n",
        "import numpy as np\n",
        "import seaborn as sb\n",
        "import matplotlib.pyplot as plt\n",
        "import warnings\n",
        "warnings.filterwarnings(\"ignore\")\n",
        "from sklearn.decomposition import PCA\n",
        "from sklearn.preprocessing import StandardScaler\n",
        "from sklearn.model_selection import train_test_split,GridSearchCV,KFold,StratifiedKFold\n",
        "from sklearn.metrics import classification_report,confusion_matrix,accuracy_score,roc_auc_score\n",
        "from imblearn.over_sampling import SMOTE\n",
        "from imblearn.under_sampling import RandomUnderSampler\n",
        "from sklearn.linear_model import LogisticRegression\n",
        "import matplotlib.pyplot as plt\n",
        "from imblearn.combine import SMOTETomek\n",
        "from imblearn.under_sampling import TomekLinks\n",
        "from sklearn.pipeline import Pipeline\n",
        "from imblearn.metrics import sensitivity_specificity_support\n",
        "from sklearn.ensemble import RandomForestClassifier\n",
        "from sklearn.decomposition import IncrementalPCA\n",
        "from xgboost import XGBClassifier\n",
        "from sklearn import metrics"
      ]
    },
    {
      "cell_type": "code",
      "source": [
        "from platform import python_version\n",
        "print(\"python: \",python_version())\n",
        "print(\"numpy: \",np.__version__) #numpy version\n",
        "print(\"pandas: \",pd.__version__) #pandas version\n",
        "print(\"matplotlib: \",matplotlib.__version__) #matplotlib version\n",
        "print(\"seaborn: \",sns.__version__)\n",
        "print(\"plotly: \",plotly.__version__)"
      ],
      "metadata": {
        "id": "hHMwK_QaZG7e"
      },
      "execution_count": null,
      "outputs": []
    },
    {
      "cell_type": "code",
      "source": [],
      "metadata": {
        "id": "ig6onWJdYace"
      },
      "execution_count": null,
      "outputs": []
    }
  ]
}